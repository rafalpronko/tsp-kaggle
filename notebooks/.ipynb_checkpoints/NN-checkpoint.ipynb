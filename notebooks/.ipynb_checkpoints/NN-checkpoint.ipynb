{
 "cells": [
  {
   "cell_type": "code",
   "execution_count": 1,
   "metadata": {},
   "outputs": [],
   "source": [
    "import numpy as np\n",
    "import pandas as pd\n",
    "from tqdm import tqdm_notebook\n",
    "import random\n",
    "from ../scripts/functions.py"
   ]
  },
  {
   "cell_type": "code",
   "execution_count": 2,
   "metadata": {},
   "outputs": [],
   "source": [
    "cities_read = pd.read_csv('cities.csv')"
   ]
  },
  {
   "cell_type": "code",
   "execution_count": 3,
   "metadata": {},
   "outputs": [],
   "source": [
    "prime_df = pd.read_csv(\"prime.csv\")"
   ]
  },
  {
   "cell_type": "code",
   "execution_count": 5,
   "metadata": {},
   "outputs": [
    {
     "data": {
      "application/vnd.jupyter.widget-view+json": {
       "model_id": "9e7d0464cd184d31ae5a86e0c2d2a25d",
       "version_major": 2,
       "version_minor": 0
      },
      "text/plain": [
       "HBox(children=(IntProgress(value=0, max=17802), HTML(value='')))"
      ]
     },
     "metadata": {},
     "output_type": "display_data"
    },
    {
     "name": "stdout",
     "output_type": "stream",
     "text": [
      "\n"
     ]
    }
   ],
   "source": [
    "max_number = cities_read.shape[0]\n",
    "prime = [0]*max_number\n",
    "for i, r in tqdm_notebook(prime_df.iterrows(), total=prime_df.shape[0]):\n",
    "    prime[r['0']] = 1"
   ]
  },
  {
   "cell_type": "code",
   "execution_count": 6,
   "metadata": {},
   "outputs": [],
   "source": [
    "from math import hypot\n",
    "class city(object):\n",
    "    def __init__(self, X, Y, ID, prime):\n",
    "        self.X = X\n",
    "        self.Y = Y\n",
    "        self.id = ID\n",
    "        self.prime = prime[int(ID)] \n",
    "        \n",
    "    def dist(self, city):\n",
    "        return hypot((self.X - city.X), (self.Y - city.Y))"
   ]
  },
  {
   "cell_type": "code",
   "execution_count": 7,
   "metadata": {},
   "outputs": [],
   "source": [
    "def fitness(path):\n",
    "    full = 0.0\n",
    "    for i in range(len(path) - 1):\n",
    "        alpha = 1\n",
    "        if i%10 == 9 and path[i].prime == False:\n",
    "            alpha = 1.1\n",
    "        full += path[i].dist(path[i+1]) * alpha\n",
    "    return full"
   ]
  },
  {
   "cell_type": "code",
   "execution_count": null,
   "metadata": {},
   "outputs": [],
   "source": []
  }
 ],
 "metadata": {
  "kernelspec": {
   "display_name": "Python 3",
   "language": "python",
   "name": "python3"
  },
  "language_info": {
   "codemirror_mode": {
    "name": "ipython",
    "version": 3
   },
   "file_extension": ".py",
   "mimetype": "text/x-python",
   "name": "python",
   "nbconvert_exporter": "python",
   "pygments_lexer": "ipython3",
   "version": "3.6.3"
  }
 },
 "nbformat": 4,
 "nbformat_minor": 2
}
