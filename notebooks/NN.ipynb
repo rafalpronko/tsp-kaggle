{
 "cells": [
  {
   "cell_type": "code",
   "execution_count": 1,
   "metadata": {},
   "outputs": [],
   "source": [
    "import sys\n",
    "import os\n",
    "# need to add the path to import module\n",
    "sys.path.append(\"/home/jovyan/work\")"
   ]
  },
  {
   "cell_type": "code",
   "execution_count": 2,
   "metadata": {},
   "outputs": [],
   "source": [
    "# sys.path\n",
    "# !pip install livelossplot"
   ]
  },
  {
   "cell_type": "code",
   "execution_count": 3,
   "metadata": {},
   "outputs": [],
   "source": [
    "import numpy as np\n",
    "import pandas as pd\n",
    "from tqdm import tqdm_notebook\n",
    "import random\n",
    "from livelossplot import PlotLosses"
   ]
  },
  {
   "cell_type": "code",
   "execution_count": 4,
   "metadata": {},
   "outputs": [],
   "source": [
    "from functions.functions import generate_primes, dist_between_two_points, score_tour_numba"
   ]
  },
  {
   "cell_type": "code",
   "execution_count": null,
   "metadata": {},
   "outputs": [],
   "source": []
  },
  {
   "cell_type": "code",
   "execution_count": 5,
   "metadata": {},
   "outputs": [],
   "source": [
    "cities_read = pd.read_csv('../data/cities.csv')"
   ]
  },
  {
   "cell_type": "code",
   "execution_count": 6,
   "metadata": {},
   "outputs": [],
   "source": [
    "prime = generate_primes(cities_read.shape[0] + 1)"
   ]
  },
  {
   "cell_type": "code",
   "execution_count": 7,
   "metadata": {},
   "outputs": [],
   "source": [
    "path = np.zeros(cities_read.shape[0] + 1)\n",
    "path.dtype = int"
   ]
  },
  {
   "cell_type": "code",
   "execution_count": null,
   "metadata": {},
   "outputs": [
    {
     "data": {
      "image/png": "[encoded data removed]",
      "text/plain": [
       "<Figure size 864x576 with 1 Axes>"
      ]
     },
     "metadata": {},
     "output_type": "display_data"
    },
    {
     "name": "stdout",
     "output_type": "stream",
     "text": [
      "fitness:\n",
      "training   (min:    0.000, max:   53.618, cur:   53.618)\n"
     ]
    },
    {
     "data": {
      "application/vnd.jupyter.widget-view+json": {
       "model_id": "f2df4c819f9d40bf879f4922ce33ca6d",
       "version_major": 2,
       "version_minor": 0
      },
      "text/plain": [
       "HBox(children=(IntProgress(value=0, max=197764), HTML(value='')))"
      ]
     },
     "metadata": {},
     "output_type": "display_data"
    }
   ],
   "source": [
    "liveplot = PlotLosses()\n",
    "for j in range(1, cities_read.shape[0]-1):\n",
    "    liveplot.update({\n",
    "                    'fitness': score_tour_numba(path, cities_read.X.values, cities_read.Y.values, prime),\n",
    "                })\n",
    "    liveplot.draw()\n",
    "    id_ = path[j - 1]\n",
    "    min_dst = 1000000\n",
    "    next_town = 0\n",
    "    for i in tqdm_notebook(np.setdiff1d(cities_read.CityId.values, path)):\n",
    "        X = np.zeros(2)\n",
    "        Y = np.zeros(2)\n",
    "        X[0] = cities_read.iloc[id_].X\n",
    "        X[1] = cities_read.iloc[i].X\n",
    "        Y[0] = cities_read.iloc[id_].Y\n",
    "        Y[1] = cities_read.iloc[i].Y\n",
    "        alpha = 1.0\n",
    "#         if (j - 1) % 10 == 9 and prime[id_] == 0:\n",
    "#             alpha = 1.1\n",
    "        dbtp = dist_between_two_points(X,Y, alpha)\n",
    "        if dbtp < min_dst:\n",
    "            min_dst = dbtp\n",
    "            next_town = i\n",
    "    path[j] = next_town\n",
    "            "
   ]
  },
  {
   "cell_type": "code",
   "execution_count": null,
   "metadata": {},
   "outputs": [],
   "source": [
    "path[:15]"
   ]
  },
  {
   "cell_type": "code",
   "execution_count": null,
   "metadata": {},
   "outputs": [],
   "source": [
    "path[:15]"
   ]
  },
  {
   "cell_type": "code",
   "execution_count": null,
   "metadata": {},
   "outputs": [],
   "source": [
    "score_tour_numba(path, cities_read.X.values, cities_read.Y.values, prime)"
   ]
  },
  {
   "cell_type": "code",
   "execution_count": null,
   "metadata": {},
   "outputs": [],
   "source": [
    "score_tour_numba(path, cities_read.X.values, cities_read.Y.values, prime)"
   ]
  },
  {
   "cell_type": "code",
   "execution_count": null,
   "metadata": {},
   "outputs": [],
   "source": []
  }
 ],
 "metadata": {
  "kernelspec": {
   "display_name": "Python 3",
   "language": "python",
   "name": "python3"
  },
  "language_info": {
   "codemirror_mode": {
    "name": "ipython",
    "version": 3
   },
   "file_extension": ".py",
   "mimetype": "text/x-python",
   "name": "python",
   "nbconvert_exporter": "python",
   "pygments_lexer": "ipython3",
   "version": "3.6.3"
  }
 },
 "nbformat": 4,
 "nbformat_minor": 2
}
