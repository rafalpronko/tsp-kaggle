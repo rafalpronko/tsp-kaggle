{
 "cells": [
  {
   "cell_type": "code",
   "execution_count": 8,
   "metadata": {},
   "outputs": [],
   "source": [
    "import numpy as np\n",
    "import pandas as pd\n",
    "from tqdm import tqdm_notebook\n",
    "import random\n",
    "import numpy as np\n",
    "from sympy import primerange\n",
    "import itertools\n",
    "from numba import jit, prange"
   ]
  },
  {
   "cell_type": "code",
   "execution_count": 9,
   "metadata": {},
   "outputs": [],
   "source": [
    "cities = pd.read_csv(\"dataset/cities.csv\")"
   ]
  },
  {
   "cell_type": "code",
   "execution_count": 23,
   "metadata": {},
   "outputs": [],
   "source": [
    "tour = pd.read_csv(\"submission_181212.csv\")['Path'].tolist()"
   ]
  },
  {
   "cell_type": "code",
   "execution_count": 11,
   "metadata": {},
   "outputs": [],
   "source": [
    "primes = list(primerange(0, len(cities)))"
   ]
  },
  {
   "cell_type": "code",
   "execution_count": 12,
   "metadata": {},
   "outputs": [],
   "source": [
    "cities['prime'] = cities.CityId.isin(primes).astype(int)"
   ]
  },
  {
   "cell_type": "code",
   "execution_count": 13,
   "metadata": {},
   "outputs": [],
   "source": [
    "def score_tour(tour):\n",
    "    # length of any given tour with primes calculation\n",
    "    df = cities.reindex(tour + [0]).reset_index()\n",
    "    df['prime'] = df.CityId.isin(primes).astype(int)\n",
    "    df['dist'] = np.hypot(df.X - df.X.shift(-1), df.Y - df.Y.shift(-1))\n",
    "    df['penalty'] = df['dist'][9::10] * (1 - df['prime'][9::10]) * 0.1\n",
    "    return df.dist.sum() + df.penalty.sum()"
   ]
  },
  {
   "cell_type": "code",
   "execution_count": 26,
   "metadata": {},
   "outputs": [],
   "source": [
    "@jit(nopython=True, parallel=True, fastmath=True)\n",
    "def score_tour_numba(tour_, X, Y, primes):\n",
    "    # length of any given tour with primes calculation\n",
    "    full = 0.0\n",
    "    for i in prange(0, len(tour_)-1):\n",
    "        alpha = 1.0\n",
    "        dst = np.hypot(X[tour_[i]] - X[tour_[i+1]], Y[tour_[i]] - Y[tour_[i+1]])\n",
    "        if i%10 == 9 and primes[tour_[i]] == 0:\n",
    "            alpha = 1.1\n",
    "        full += alpha * dst\n",
    "    return full"
   ]
  },
  {
   "cell_type": "code",
   "execution_count": 29,
   "metadata": {},
   "outputs": [
    {
     "data": {
      "text/plain": [
       "1516697.7572615764"
      ]
     },
     "execution_count": 29,
     "metadata": {},
     "output_type": "execute_result"
    }
   ],
   "source": [
    "score_tour_numba(tour, cities.X.values, cities.Y.values, cities.prime.values)"
   ]
  },
  {
   "cell_type": "code",
   "execution_count": 16,
   "metadata": {},
   "outputs": [],
   "source": [
    "def local2op(path, i, k):\n",
    "    tmp = path[i:k]\n",
    "    return path[0:i] + tmp[::-1] + path[k:]"
   ]
  },
  {
   "cell_type": "code",
   "execution_count": 17,
   "metadata": {},
   "outputs": [],
   "source": [
    "def possible_permutation(path, j, k):\n",
    "    tmp_ = path[j:k].copy()\n",
    "    per_tmp = [list(i) for i in itertools.permutations(tmp_)]\n",
    "    for i in per_tmp:\n",
    "        yield path[0:j] + i + path[k:]"
   ]
  },
  {
   "cell_type": "code",
   "execution_count": 18,
   "metadata": {},
   "outputs": [
    {
     "name": "stdout",
     "output_type": "stream",
     "text": [
      "[1, 2, 3, 4, 5, 6, 7, 8]\n",
      "[1, 2, 3, 5, 4, 6, 7, 8]\n",
      "[1, 2, 4, 3, 5, 6, 7, 8]\n",
      "[1, 2, 4, 5, 3, 6, 7, 8]\n",
      "[1, 2, 5, 3, 4, 6, 7, 8]\n",
      "[1, 2, 5, 4, 3, 6, 7, 8]\n"
     ]
    }
   ],
   "source": [
    "for a in possible_permutation([1,2,3,4,5,6,7,8], 2,5):\n",
    "    print(a)"
   ]
  },
  {
   "cell_type": "code",
   "execution_count": 19,
   "metadata": {},
   "outputs": [],
   "source": [
    "# %timeit local2op(tour.copy(), 1, 5)"
   ]
  },
  {
   "cell_type": "markdown",
   "metadata": {},
   "source": [
    "Permutation"
   ]
  },
  {
   "cell_type": "code",
   "execution_count": null,
   "metadata": {},
   "outputs": [
    {
     "data": {
      "application/vnd.jupyter.widget-view+json": {
       "model_id": "88ca3badfeac441bbc73e78cff92cfb4",
       "version_major": 2,
       "version_minor": 0
      },
      "text/plain": [
       "HBox(children=(IntProgress(value=0, max=179311), HTML(value='')))"
      ]
     },
     "metadata": {},
     "output_type": "display_data"
    }
   ],
   "source": [
    "best_tour = score_tour_numba(tour, cities.X.values, cities.Y.values, cities.prime.values)\n",
    "max_number = len(tour) - 1\n",
    "tour_best = tour.copy()\n",
    "\n",
    "for i in tqdm_notebook(range(18459,max_number), total=max_number - 18459 + 1):\n",
    "    for k in range(i+1, i+5):\n",
    "        if k - i > 1:\n",
    "            for perm in possible_permutation(tour_best, i, k):\n",
    "                fitness_tmp = score_tour_numba(perm, cities.X.values, cities.Y.values, cities.prime.values)\n",
    "                if fitness_tmp < best_tour:\n",
    "                    print(fitness_tmp)\n",
    "                    best_tour = fitness_tmp\n",
    "                    pd.DataFrame({\"Path\": perm}).to_csv(\"submition_181213_v_{}.csv\".format(fitness_tmp), index=False)\n",
    "                    tour_best = perm.copy()"
   ]
  },
  {
   "cell_type": "code",
   "execution_count": null,
   "metadata": {},
   "outputs": [],
   "source": [
    "best_tour = score_tour(tour)\n",
    "max_number = len(tour) - 1\n",
    "tour_best = tour.copy()\n",
    "\n",
    "for i in tqdm_notebook(range(1,max_number), total=max_number +1):\n",
    "    for k in range(i+1, i+15):\n",
    "        if k - i > 1:\n",
    "            fliped_tour = local2op(tour_best.copy(), i, k)\n",
    "            fitness_tmp = score_tour(fliped_tour)\n",
    "            if fitness_tmp < best_tour:\n",
    "                print(fitness_tmp)\n",
    "                best_tour = fitness_tmp\n",
    "                pd.DataFrame({\"Path\": fliped_tour}).to_csv(\"submition_181208_v_{}.csv\".format(fitness_tmp), index=False)\n",
    "                tour_best = fliped_tour.copy()"
   ]
  },
  {
   "cell_type": "code",
   "execution_count": null,
   "metadata": {},
   "outputs": [],
   "source": [
    "44229 + 2656 + 30375 + 64789"
   ]
  },
  {
   "cell_type": "code",
   "execution_count": null,
   "metadata": {},
   "outputs": [],
   "source": [
    "tour[1:10:-1]"
   ]
  },
  {
   "cell_type": "code",
   "execution_count": null,
   "metadata": {},
   "outputs": [],
   "source": [
    "score_tour(tour_best[::-1])"
   ]
  },
  {
   "cell_type": "code",
   "execution_count": null,
   "metadata": {},
   "outputs": [],
   "source": []
  }
 ],
 "metadata": {
  "kernelspec": {
   "display_name": "Python 3",
   "language": "python",
   "name": "python3"
  },
  "language_info": {
   "codemirror_mode": {
    "name": "ipython",
    "version": 3
   },
   "file_extension": ".py",
   "mimetype": "text/x-python",
   "name": "python",
   "nbconvert_exporter": "python",
   "pygments_lexer": "ipython3",
   "version": "3.6.3"
  }
 },
 "nbformat": 4,
 "nbformat_minor": 2
}
