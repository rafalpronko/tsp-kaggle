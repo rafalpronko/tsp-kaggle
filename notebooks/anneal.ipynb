{
 "cells": [
  {
   "cell_type": "code",
   "execution_count": 1,
   "metadata": {},
   "outputs": [],
   "source": [
    "import numpy as np\n",
    "import pandas as pd\n",
    "from tqdm import tqdm_notebook\n",
    "import random\n",
    "import numpy as np\n",
    "from sympy import primerange\n",
    "%matplotlib inline\n",
    "from livelossplot import PlotLosses\n",
    "from numba import jit, prange\n",
    "import time"
   ]
  },
  {
   "cell_type": "code",
   "execution_count": 2,
   "metadata": {},
   "outputs": [],
   "source": [
    "cities = pd.read_csv(\"dataset/cities.csv\")"
   ]
  },
  {
   "cell_type": "code",
   "execution_count": 3,
   "metadata": {},
   "outputs": [],
   "source": [
    "tour = pd.read_csv(\"submition_181206_v_1516768.4747805735.csv\")['Path'].tolist()"
   ]
  },
  {
   "cell_type": "code",
   "execution_count": 4,
   "metadata": {},
   "outputs": [
    {
     "data": {
      "text/plain": [
       "[0,\n",
       " 78934,\n",
       " 48816,\n",
       " 40230,\n",
       " 75405,\n",
       " 153911,\n",
       " 22121,\n",
       " 38941,\n",
       " 167366,\n",
       " 177242,\n",
       " 46360,\n",
       " 114579,\n",
       " 70519,\n",
       " 139226,\n",
       " 182992]"
      ]
     },
     "execution_count": 4,
     "metadata": {},
     "output_type": "execute_result"
    }
   ],
   "source": [
    "tour[:15]"
   ]
  },
  {
   "cell_type": "code",
   "execution_count": null,
   "metadata": {},
   "outputs": [],
   "source": [
    "random.shuffle(tour)"
   ]
  },
  {
   "cell_type": "code",
   "execution_count": 5,
   "metadata": {},
   "outputs": [],
   "source": [
    "primes = list(primerange(0, len(cities)))"
   ]
  },
  {
   "cell_type": "code",
   "execution_count": 6,
   "metadata": {},
   "outputs": [],
   "source": [
    "cities['prime'] = cities.CityId.isin(primes).astype(int)"
   ]
  },
  {
   "cell_type": "code",
   "execution_count": 7,
   "metadata": {},
   "outputs": [
    {
     "data": {
      "text/html": [
       "<div>\n",
       "<style scoped>\n",
       "    .dataframe tbody tr th:only-of-type {\n",
       "        vertical-align: middle;\n",
       "    }\n",
       "\n",
       "    .dataframe tbody tr th {\n",
       "        vertical-align: top;\n",
       "    }\n",
       "\n",
       "    .dataframe thead th {\n",
       "        text-align: right;\n",
       "    }\n",
       "</style>\n",
       "<table border=\"1\" class=\"dataframe\">\n",
       "  <thead>\n",
       "    <tr style=\"text-align: right;\">\n",
       "      <th></th>\n",
       "      <th>CityId</th>\n",
       "      <th>X</th>\n",
       "      <th>Y</th>\n",
       "      <th>prime</th>\n",
       "    </tr>\n",
       "  </thead>\n",
       "  <tbody>\n",
       "    <tr>\n",
       "      <th>0</th>\n",
       "      <td>0</td>\n",
       "      <td>316.836739</td>\n",
       "      <td>2202.340707</td>\n",
       "      <td>0</td>\n",
       "    </tr>\n",
       "    <tr>\n",
       "      <th>1</th>\n",
       "      <td>1</td>\n",
       "      <td>4377.405972</td>\n",
       "      <td>336.602082</td>\n",
       "      <td>0</td>\n",
       "    </tr>\n",
       "    <tr>\n",
       "      <th>2</th>\n",
       "      <td>2</td>\n",
       "      <td>3454.158198</td>\n",
       "      <td>2820.053011</td>\n",
       "      <td>1</td>\n",
       "    </tr>\n",
       "    <tr>\n",
       "      <th>3</th>\n",
       "      <td>3</td>\n",
       "      <td>4688.099298</td>\n",
       "      <td>2935.898056</td>\n",
       "      <td>1</td>\n",
       "    </tr>\n",
       "    <tr>\n",
       "      <th>4</th>\n",
       "      <td>4</td>\n",
       "      <td>1010.696952</td>\n",
       "      <td>3236.750989</td>\n",
       "      <td>0</td>\n",
       "    </tr>\n",
       "  </tbody>\n",
       "</table>\n",
       "</div>"
      ],
      "text/plain": [
       "   CityId            X            Y  prime\n",
       "0       0   316.836739  2202.340707      0\n",
       "1       1  4377.405972   336.602082      0\n",
       "2       2  3454.158198  2820.053011      1\n",
       "3       3  4688.099298  2935.898056      1\n",
       "4       4  1010.696952  3236.750989      0"
      ]
     },
     "execution_count": 7,
     "metadata": {},
     "output_type": "execute_result"
    }
   ],
   "source": [
    "cities.head()"
   ]
  },
  {
   "cell_type": "code",
   "execution_count": 40,
   "metadata": {},
   "outputs": [],
   "source": [
    "@jit\n",
    "def score_tour(tour):\n",
    "    # length of any given tour with primes calculation\n",
    "    df = cities.reindex(np.array(tour + [0])).reset_index()\n",
    "    df['prime'] = df.CityId.isin(primes).astype(int)\n",
    "    df['dist'] = np.hypot(df.X - df.X.shift(-1), df.Y - df.Y.shift(-1))\n",
    "    df['penalty'] = df['dist'][9::10] * (1 - df['prime'][9::10]) * 0.1\n",
    "#     print(df.head(10))\n",
    "    return df.dist.sum() + df.penalty.sum()"
   ]
  },
  {
   "cell_type": "code",
   "execution_count": 58,
   "metadata": {},
   "outputs": [],
   "source": [
    "@jit(nopython=True, parallel=True)\n",
    "def score_tour_numba(tour_, X, Y, primes):\n",
    "    # length of any given tour with primes calculation\n",
    "    full = 0.0\n",
    "    for i in prange(0, len(tour_)-1):\n",
    "        alpha = 1.0\n",
    "        dst = np.hypot(X[tour_[i]] - X[tour_[i+1]], Y[tour_[i]] - Y[tour_[i+1]])\n",
    "        if i%10 == 9 and primes[tour_[i]] == 0:\n",
    "            alpha = 1.1\n",
    "        full += alpha * dst\n",
    "    return full"
   ]
  },
  {
   "cell_type": "code",
   "execution_count": 25,
   "metadata": {},
   "outputs": [
    {
     "data": {
      "text/plain": [
       "10"
      ]
     },
     "execution_count": 25,
     "metadata": {},
     "output_type": "execute_result"
    }
   ],
   "source": [
    "len(tour[:10])"
   ]
  },
  {
   "cell_type": "code",
   "execution_count": 64,
   "metadata": {},
   "outputs": [
    {
     "name": "stdout",
     "output_type": "stream",
     "text": [
      "0.02166914939880371\n"
     ]
    }
   ],
   "source": [
    "start = time.time()\n",
    "score_tour_numba(tour, cities.X.values, cities.Y.values, cities.prime.values)\n",
    "end = time.time()\n",
    "print(end - start)"
   ]
  },
  {
   "cell_type": "code",
   "execution_count": 44,
   "metadata": {},
   "outputs": [
    {
     "name": "stdout",
     "output_type": "stream",
     "text": [
      "0.09631872177124023\n"
     ]
    }
   ],
   "source": [
    "# start = time.time()\n",
    "score_tour(tour)\n",
    "# end = time.time()\n",
    "# print(end - start)"
   ]
  },
  {
   "cell_type": "code",
   "execution_count": null,
   "metadata": {},
   "outputs": [],
   "source": []
  },
  {
   "cell_type": "code",
   "execution_count": 36,
   "metadata": {},
   "outputs": [],
   "source": [
    "def local2op(path, i, k):\n",
    "    tmp = path[i:k]\n",
    "    return path[0:i] + tmp[::-1] + path[k:]"
   ]
  },
  {
   "cell_type": "code",
   "execution_count": 37,
   "metadata": {},
   "outputs": [],
   "source": [
    "def swap(path, i, k):\n",
    "    path[i], path[k] = path[k], path[i]\n",
    "    return path"
   ]
  },
  {
   "cell_type": "code",
   "execution_count": 38,
   "metadata": {},
   "outputs": [],
   "source": [
    "def ap(cnew, cold, T):\n",
    "    return 1 / np.exp((cnew - cold) / T)"
   ]
  },
  {
   "cell_type": "code",
   "execution_count": null,
   "metadata": {},
   "outputs": [],
   "source": [
    "%timeit local2op(tour.copy(), 3,5)"
   ]
  },
  {
   "cell_type": "code",
   "execution_count": null,
   "metadata": {},
   "outputs": [],
   "source": [
    "print(1,2)"
   ]
  },
  {
   "cell_type": "code",
   "execution_count": 39,
   "metadata": {},
   "outputs": [
    {
     "data": {
      "image/png": "[encoded data removed]",
      "text/plain": [
       "<Figure size 864x576 with 2 Axes>"
      ]
     },
     "metadata": {},
     "output_type": "display_data"
    },
    {
     "name": "stdout",
     "output_type": "stream",
     "text": [
      "fitness:\n",
      "training   (min: 1516768.475, max: 1519967.720, cur: 1519883.199)\n",
      "\n",
      "T:\n",
      "training   (min:    0.001, max:   10.000, cur:    0.001)\n"
     ]
    }
   ],
   "source": [
    "best_tour = score_tour_numba(tour, cities.X.values, cities.Y.values, cities.prime.values)\n",
    "T = 10.0\n",
    "T_min = 0.001\n",
    "alpha = 0.99\n",
    "tour_best = tour.copy()\n",
    "liveplot = PlotLosses()\n",
    "\n",
    "while T_min < T:\n",
    "    liveplot.update({\n",
    "                    'fitness': best_tour,\n",
    "                    'T': T,\n",
    "                })\n",
    "    liveplot.draw()\n",
    "    for i in range(100):\n",
    "        a = random.randint(1, len(tour_best) - 20)\n",
    "        b = random.randint(a+1, a+19)\n",
    "        tour_tmp = swap(tour_best.copy(), a, b)\n",
    "#         fitness_tmp = score_tour(tour_tmp)\n",
    "        fitness_tmp = score_tour_numba(tour_tmp, cities.X.values, cities.Y.values, cities.prime.values)\n",
    "        if fitness_tmp < best_tour:\n",
    "            tour_best = tour_tmp\n",
    "            pd.DataFrame({\"Path\": tour_best}).to_csv(\"submition_anneal_v_{}.csv\".format(fitness_tmp), index=False)\n",
    "            best_tour = fitness_tmp\n",
    "        else:\n",
    "            aprob = ap(fitness_tmp, best_tour, T)\n",
    "            if random.uniform(0,1) <  aprob:\n",
    "                tour_best = tour_tmp\n",
    "                best_tour = fitness_tmp\n",
    "    T = T*alpha"
   ]
  },
  {
   "cell_type": "code",
   "execution_count": null,
   "metadata": {},
   "outputs": [],
   "source": []
  }
 ],
 "metadata": {
  "kernelspec": {
   "display_name": "Python 3",
   "language": "python",
   "name": "python3"
  },
  "language_info": {
   "codemirror_mode": {
    "name": "ipython",
    "version": 3
   },
   "file_extension": ".py",
   "mimetype": "text/x-python",
   "name": "python",
   "nbconvert_exporter": "python",
   "pygments_lexer": "ipython3",
   "version": "3.6.3"
  }
 },
 "nbformat": 4,
 "nbformat_minor": 2
}
